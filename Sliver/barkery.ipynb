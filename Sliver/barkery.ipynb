{
 "cells": [
  {
   "cell_type": "code",
   "execution_count": 2,
   "id": "36c2200c-8e47-4ac6-897e-ad4e2af5ff38",
   "metadata": {},
   "outputs": [
    {
     "name": "stdin",
     "output_type": "stream",
     "text": [
      " 2\n",
      " 3 7 9\n",
      " 4 3 18\n",
      " 2 4 19\n",
      " 1 1 6\n",
      " 5 7 3\n",
      " 5 9 45\n",
      " 5 2 31\n",
      " 6 4 28\n",
      " 4 1 8\n",
      " 5 2 22\n"
     ]
    },
    {
     "name": "stdout",
     "output_type": "stream",
     "text": [
      "6\n",
      "3\n"
     ]
    }
   ],
   "source": [
    "def min_upgrade_cost(T, cases):\n",
    "    total_cost = 0\n",
    "    results = []\n",
    "    for case in cases:\n",
    "        N, tC, tM = case[0]\n",
    "        orders = case[1:]\n",
    "        cost = binary_search_min_upgrade(orders, tC, tM)\n",
    "        results.append(cost)\n",
    "        total_cost += cost\n",
    "    return results\n",
    "\n",
    "def binary_search_min_upgrade(orders, tC, tM):\n",
    "    low, high = 0, min(tC, tM)\n",
    "    while low < high:\n",
    "        mid = (low + high) // 2\n",
    "        if can_fulfill_orders(orders, tC - mid, tM - mid):\n",
    "            high = mid\n",
    "        else:\n",
    "            low = mid + 1\n",
    "    return low\n",
    "\n",
    "def can_fulfill_orders(orders, new_tC, new_tM):\n",
    "    for a, b, c in orders:\n",
    "        if a * new_tC + b * new_tM > c:\n",
    "            return False\n",
    "    return True\n",
    "\n",
    "# Input processing\n",
    "T = int(input().strip())\n",
    "cases = []\n",
    "for _ in range(T):\n",
    "    case = []\n",
    "    N, tC, tM = map(int, input().strip().split())\n",
    "    case.append((N, tC, tM))\n",
    "    for _ in range(N):\n",
    "        ai, bi, ci = map(int, input().strip().split())\n",
    "        case.append((ai, bi, ci))\n",
    "    cases.append(case)\n",
    "\n",
    "# Calculate and output results\n",
    "results = min_upgrade_cost(T, cases)\n",
    "for result in results:\n",
    "    print(result)\n"
   ]
  },
  {
   "cell_type": "code",
   "execution_count": 5,
   "id": "88b0958e-71c5-42ea-89ec-b83bb9e1fb98",
   "metadata": {},
   "outputs": [
    {
     "name": "stdin",
     "output_type": "stream",
     "text": [
      " 1\n",
      " 3 7 9\n",
      " 4 3 18\n",
      " 2 4 19\n",
      " 1 1 6\n",
      " \n"
     ]
    },
    {
     "ename": "ValueError",
     "evalue": "not enough values to unpack (expected 3, got 0)",
     "output_type": "error",
     "traceback": [
      "\u001b[0;31m---------------------------------------------------------------------------\u001b[0m",
      "\u001b[0;31mValueError\u001b[0m                                Traceback (most recent call last)",
      "Cell \u001b[0;32mIn[5], line 11\u001b[0m\n\u001b[1;32m      8\u001b[0m A, B, C \u001b[38;5;241m=\u001b[39m [\u001b[38;5;241m0\u001b[39m \u001b[38;5;28;01mfor\u001b[39;00m i \u001b[38;5;129;01min\u001b[39;00m \u001b[38;5;28mrange\u001b[39m(N)], [\u001b[38;5;241m0\u001b[39m \u001b[38;5;28;01mfor\u001b[39;00m i \u001b[38;5;129;01min\u001b[39;00m \u001b[38;5;28mrange\u001b[39m(N)], [\u001b[38;5;241m0\u001b[39m \u001b[38;5;28;01mfor\u001b[39;00m i \u001b[38;5;129;01min\u001b[39;00m \u001b[38;5;28mrange\u001b[39m(N)]\n\u001b[1;32m     10\u001b[0m \u001b[38;5;28;01mfor\u001b[39;00m i \u001b[38;5;129;01min\u001b[39;00m \u001b[38;5;28mrange\u001b[39m(N):\n\u001b[0;32m---> 11\u001b[0m     A[i], B[i], C[i] \u001b[38;5;241m=\u001b[39m \u001b[38;5;28mmap\u001b[39m(\u001b[38;5;28mint\u001b[39m, \u001b[38;5;28minput\u001b[39m()\u001b[38;5;241m.\u001b[39msplit())\n\u001b[1;32m     13\u001b[0m \u001b[38;5;28;01mdef\u001b[39;00m \u001b[38;5;21mcheck\u001b[39m(w):\n\u001b[1;32m     14\u001b[0m     \u001b[38;5;66;03m#1 <= x <= X\u001b[39;00m\n\u001b[1;32m     15\u001b[0m     \u001b[38;5;66;03m#1 <= y <= Y\u001b[39;00m\n\u001b[1;32m     16\u001b[0m     \u001b[38;5;66;03m#x + y = X + Y - w\u001b[39;00m\n\u001b[1;32m     17\u001b[0m     \u001b[38;5;66;03m#x = X + Y - y - w\u001b[39;00m\n\u001b[1;32m     18\u001b[0m     lx, hx \u001b[38;5;241m=\u001b[39m \u001b[38;5;28mmax\u001b[39m(\u001b[38;5;241m1\u001b[39m, X \u001b[38;5;241m-\u001b[39m w), \u001b[38;5;28mmin\u001b[39m(X \u001b[38;5;241m+\u001b[39m Y \u001b[38;5;241m-\u001b[39m w \u001b[38;5;241m-\u001b[39m \u001b[38;5;241m1\u001b[39m, X)\n",
      "\u001b[0;31mValueError\u001b[0m: not enough values to unpack (expected 3, got 0)"
     ]
    }
   ],
   "source": [
    "TC = int(input())\n",
    " \n",
    "for tc in range(TC):\n",
    "    _ = input()\n",
    " \n",
    "    N, X, Y = map(int, input().split())\n",
    "    \n",
    "    A, B, C = [0 for i in range(N)], [0 for i in range(N)], [0 for i in range(N)]\n",
    "    \n",
    "    for i in range(N):\n",
    "        A[i], B[i], C[i] = map(int, input().split())\n",
    "    \n",
    "    def check(w):\n",
    "        #1 <= x <= X\n",
    "        #1 <= y <= Y\n",
    "        #x + y = X + Y - w\n",
    "        #x = X + Y - y - w\n",
    "        lx, hx = max(1, X - w), min(X + Y - w - 1, X)\n",
    "        for i in range(N):\n",
    "            a, b, c = A[i], B[i], C[i]\n",
    "            d = X + Y - w\n",
    "            #a * x + b * y <= c\n",
    "            #x + y = d = (X + Y - w)\n",
    "            #-b * x - b * y <= -b * d\n",
    "            #(a-b) * x <= c - b * d\n",
    "            if (b - a > 0):\n",
    "                lx = max(lx, (-c + b * d + (b - a - 1)) // (b - a))\n",
    "            elif (a - b > 0):\n",
    "                hx = min(hx, (c - b * d) // (a - b))\n",
    "            else:\n",
    "                if (a * d > c):\n",
    "                    return False\n",
    "        return (lx <= hx)\n",
    "    \n",
    "    lo = 0\n",
    "    hi = X + Y - 2\n",
    "    \n",
    "    while(hi > lo):\n",
    "        mid = (lo + hi) // 2\n",
    "        if (check(mid)):\n",
    "            hi = mid\n",
    "        else:\n",
    "            lo = mid + 1\n",
    "    \n",
    "    print(lo)"
   ]
  },
  {
   "cell_type": "code",
   "execution_count": 5,
   "id": "13bd34a9-488e-417c-9562-88b87e9b1a55",
   "metadata": {},
   "outputs": [
    {
     "name": "stdin",
     "output_type": "stream",
     "text": [
      " 1\n",
      " ABCD\n",
      " DCBA\n"
     ]
    },
    {
     "name": "stdout",
     "output_type": "stream",
     "text": [
      "6\n"
     ]
    }
   ],
   "source": [
    "def char_to_index(char):\n",
    "    return ord(char) - ord('A') + 1 if char.isupper() else ord(char) - ord('a') + 27\n",
    "\n",
    "def main():\n",
    "    test_cases = int(input())  # 输入测试数据的数量\n",
    "    for _ in range(test_cases):\n",
    "        mapping = [0] * 53  # 存储字符映射关系\n",
    "        indegree = [0] * 53  # 存储每个字符的入度\n",
    "        start_group = [0] * 53  # 用于环检测\n",
    "\n",
    "        source_string = input().strip()  # 输入源字符串\n",
    "        target_string = input().strip()  # 输入目标字符串\n",
    "\n",
    "        target_set = set()  # 存储目标字符的集合\n",
    "        is_convertible = True  # 标记是否可转换\n",
    "        is_same = True  # 标记是否所有字符相同\n",
    "        length = len(source_string)  # 字符串长度\n",
    "\n",
    "        for i in range(length):\n",
    "            source_index = char_to_index(source_string[i])\n",
    "            target_index = char_to_index(target_string[i])\n",
    "            if mapping[source_index] and mapping[source_index] != target_index:\n",
    "                is_convertible = False  # 同一源字符指向不同目标字符\n",
    "                break\n",
    "            mapping[source_index] = target_index  # 更新映射关系\n",
    "            target_set.add(target_index)  # 添加目标字符到集合\n",
    "            if source_string[i] != target_string[i]:\n",
    "                is_same = False  # 标记字符不同\n",
    "\n",
    "        if len(target_set) == 52 and not is_same:\n",
    "            is_convertible = False  # 所有字符都不同且不可转换\n",
    "\n",
    "        if not is_convertible:\n",
    "            print(\"-1\")\n",
    "            continue\n",
    "\n",
    "        if is_same:\n",
    "            print(\"0\")\n",
    "            continue\n",
    "\n",
    "        operation_count = 0  # 记录需要的操作数\n",
    "        for i in range(1, 53):\n",
    "            if mapping[i] and mapping[i] != i:\n",
    "                operation_count += 1\n",
    "                indegree[mapping[i]] += 1\n",
    "\n",
    "        for i in range(1, 53):\n",
    "            current = i\n",
    "            if start_group[current]:\n",
    "                continue\n",
    "            while current and not start_group[current]:\n",
    "                start_group[current] = i  # 标记同一环\n",
    "                current = mapping[current]\n",
    "            if current and current != mapping[current] and start_group[current] == i:\n",
    "                has_multiple_indegree = False  # 标记是否有多重入度\n",
    "                cycle_node = current\n",
    "                while True:\n",
    "                    if indegree[cycle_node] > 1:\n",
    "                        has_multiple_indegree = True\n",
    "                    cycle_node = mapping[cycle_node]\n",
    "                    if cycle_node == current:\n",
    "                        break\n",
    "                if not has_multiple_indegree:\n",
    "                    operation_count += 1  # 增加操作数\n",
    "\n",
    "        print(operation_count)\n",
    "\n",
    "if __name__ == \"__main__\":\n",
    "    main()"
   ]
  },
  {
   "cell_type": "code",
   "execution_count": null,
   "id": "0e23382d-72e2-4df3-815b-d83c4fd1ba95",
   "metadata": {},
   "outputs": [],
   "source": []
  }
 ],
 "metadata": {
  "kernelspec": {
   "display_name": "Python 3 (ipykernel)",
   "language": "python",
   "name": "python3"
  },
  "language_info": {
   "codemirror_mode": {
    "name": "ipython",
    "version": 3
   },
   "file_extension": ".py",
   "mimetype": "text/x-python",
   "name": "python",
   "nbconvert_exporter": "python",
   "pygments_lexer": "ipython3",
   "version": "3.11.7"
  }
 },
 "nbformat": 4,
 "nbformat_minor": 5
}
